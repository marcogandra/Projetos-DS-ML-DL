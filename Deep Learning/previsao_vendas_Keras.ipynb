{
  "nbformat": 4,
  "nbformat_minor": 0,
  "metadata": {
    "colab": {
      "name": "previsao_vendas_Keras.ipynb",
      "provenance": [],
      "collapsed_sections": []
    },
    "kernelspec": {
      "name": "python3",
      "display_name": "Python 3"
    }
  },
  "cells": [
    {
      "cell_type": "markdown",
      "metadata": {
        "id": "9Gk6sbALPnff",
        "colab_type": "text"
      },
      "source": [
        "# **Previsão de vendas usando o Keras.**"
      ]
    },
    {
      "cell_type": "markdown",
      "metadata": {
        "id": "Qwme1-QaQpHW",
        "colab_type": "text"
      },
      "source": [
        "Esse é um pequeno guia de como criar uma rede neural simples usando o Keras. NÃO irei focar na análise dos dados, apenas no pré-processamento e criação do modelo."
      ]
    },
    {
      "cell_type": "code",
      "metadata": {
        "id": "NvDkFczFQGUs",
        "colab_type": "code",
        "outputId": "ac7a51f6-9a10-4c02-ab26-567ea3604eab",
        "colab": {
          "base_uri": "https://localhost:8080/",
          "height": 35
        }
      },
      "source": [
        "import pandas as pd \n",
        "\n",
        "from keras.models import Model\n",
        "from keras.layers import Input, Dense, Activation\n",
        "\n",
        "from sklearn.compose import ColumnTransformer\n",
        "from sklearn.preprocessing import OneHotEncoder"
      ],
      "execution_count": 0,
      "outputs": [
        {
          "output_type": "stream",
          "text": [
            "Using TensorFlow backend.\n"
          ],
          "name": "stderr"
        }
      ]
    },
    {
      "cell_type": "markdown",
      "metadata": {
        "id": "XVvAAEnYQhvI",
        "colab_type": "text"
      },
      "source": [
        "### **Carregamento e pré-processamento dos dados**"
      ]
    },
    {
      "cell_type": "code",
      "metadata": {
        "id": "f1ykElZ8QOLj",
        "colab_type": "code",
        "outputId": "ddec82da-14a4-4bb0-d79f-13f354f43d18",
        "colab": {
          "base_uri": "https://localhost:8080/",
          "height": 296
        }
      },
      "source": [
        "games = pd.read_csv('/content/Video_Games_Sales_as_at_22_Dec_2016.csv')\n",
        "games.head()"
      ],
      "execution_count": 0,
      "outputs": [
        {
          "output_type": "execute_result",
          "data": {
            "text/html": [
              "<div>\n",
              "<style scoped>\n",
              "    .dataframe tbody tr th:only-of-type {\n",
              "        vertical-align: middle;\n",
              "    }\n",
              "\n",
              "    .dataframe tbody tr th {\n",
              "        vertical-align: top;\n",
              "    }\n",
              "\n",
              "    .dataframe thead th {\n",
              "        text-align: right;\n",
              "    }\n",
              "</style>\n",
              "<table border=\"1\" class=\"dataframe\">\n",
              "  <thead>\n",
              "    <tr style=\"text-align: right;\">\n",
              "      <th></th>\n",
              "      <th>Name</th>\n",
              "      <th>Platform</th>\n",
              "      <th>Year_of_Release</th>\n",
              "      <th>Genre</th>\n",
              "      <th>Publisher</th>\n",
              "      <th>NA_Sales</th>\n",
              "      <th>EU_Sales</th>\n",
              "      <th>JP_Sales</th>\n",
              "      <th>Other_Sales</th>\n",
              "      <th>Global_Sales</th>\n",
              "      <th>Critic_Score</th>\n",
              "      <th>Critic_Count</th>\n",
              "      <th>User_Score</th>\n",
              "      <th>User_Count</th>\n",
              "      <th>Developer</th>\n",
              "      <th>Rating</th>\n",
              "    </tr>\n",
              "  </thead>\n",
              "  <tbody>\n",
              "    <tr>\n",
              "      <th>0</th>\n",
              "      <td>Wii Sports</td>\n",
              "      <td>Wii</td>\n",
              "      <td>2006.0</td>\n",
              "      <td>Sports</td>\n",
              "      <td>Nintendo</td>\n",
              "      <td>41.36</td>\n",
              "      <td>28.96</td>\n",
              "      <td>3.77</td>\n",
              "      <td>8.45</td>\n",
              "      <td>82.53</td>\n",
              "      <td>76.0</td>\n",
              "      <td>51.0</td>\n",
              "      <td>8</td>\n",
              "      <td>322.0</td>\n",
              "      <td>Nintendo</td>\n",
              "      <td>E</td>\n",
              "    </tr>\n",
              "    <tr>\n",
              "      <th>1</th>\n",
              "      <td>Super Mario Bros.</td>\n",
              "      <td>NES</td>\n",
              "      <td>1985.0</td>\n",
              "      <td>Platform</td>\n",
              "      <td>Nintendo</td>\n",
              "      <td>29.08</td>\n",
              "      <td>3.58</td>\n",
              "      <td>6.81</td>\n",
              "      <td>0.77</td>\n",
              "      <td>40.24</td>\n",
              "      <td>NaN</td>\n",
              "      <td>NaN</td>\n",
              "      <td>NaN</td>\n",
              "      <td>NaN</td>\n",
              "      <td>NaN</td>\n",
              "      <td>NaN</td>\n",
              "    </tr>\n",
              "    <tr>\n",
              "      <th>2</th>\n",
              "      <td>Mario Kart Wii</td>\n",
              "      <td>Wii</td>\n",
              "      <td>2008.0</td>\n",
              "      <td>Racing</td>\n",
              "      <td>Nintendo</td>\n",
              "      <td>15.68</td>\n",
              "      <td>12.76</td>\n",
              "      <td>3.79</td>\n",
              "      <td>3.29</td>\n",
              "      <td>35.52</td>\n",
              "      <td>82.0</td>\n",
              "      <td>73.0</td>\n",
              "      <td>8.3</td>\n",
              "      <td>709.0</td>\n",
              "      <td>Nintendo</td>\n",
              "      <td>E</td>\n",
              "    </tr>\n",
              "    <tr>\n",
              "      <th>3</th>\n",
              "      <td>Wii Sports Resort</td>\n",
              "      <td>Wii</td>\n",
              "      <td>2009.0</td>\n",
              "      <td>Sports</td>\n",
              "      <td>Nintendo</td>\n",
              "      <td>15.61</td>\n",
              "      <td>10.93</td>\n",
              "      <td>3.28</td>\n",
              "      <td>2.95</td>\n",
              "      <td>32.77</td>\n",
              "      <td>80.0</td>\n",
              "      <td>73.0</td>\n",
              "      <td>8</td>\n",
              "      <td>192.0</td>\n",
              "      <td>Nintendo</td>\n",
              "      <td>E</td>\n",
              "    </tr>\n",
              "    <tr>\n",
              "      <th>4</th>\n",
              "      <td>Pokemon Red/Pokemon Blue</td>\n",
              "      <td>GB</td>\n",
              "      <td>1996.0</td>\n",
              "      <td>Role-Playing</td>\n",
              "      <td>Nintendo</td>\n",
              "      <td>11.27</td>\n",
              "      <td>8.89</td>\n",
              "      <td>10.22</td>\n",
              "      <td>1.00</td>\n",
              "      <td>31.37</td>\n",
              "      <td>NaN</td>\n",
              "      <td>NaN</td>\n",
              "      <td>NaN</td>\n",
              "      <td>NaN</td>\n",
              "      <td>NaN</td>\n",
              "      <td>NaN</td>\n",
              "    </tr>\n",
              "  </tbody>\n",
              "</table>\n",
              "</div>"
            ],
            "text/plain": [
              "                       Name Platform  ...  Developer Rating\n",
              "0                Wii Sports      Wii  ...   Nintendo      E\n",
              "1         Super Mario Bros.      NES  ...        NaN    NaN\n",
              "2            Mario Kart Wii      Wii  ...   Nintendo      E\n",
              "3         Wii Sports Resort      Wii  ...   Nintendo      E\n",
              "4  Pokemon Red/Pokemon Blue       GB  ...        NaN    NaN\n",
              "\n",
              "[5 rows x 16 columns]"
            ]
          },
          "metadata": {
            "tags": []
          },
          "execution_count": 5
        }
      ]
    },
    {
      "cell_type": "markdown",
      "metadata": {
        "id": "QxV0XdC-RBYB",
        "colab_type": "text"
      },
      "source": [
        "Aqui irei remover as colunas desnecessárias, no caso **Name**, **Year_of_Release**, **Other_Sales**,  **Global_Sales**(porque só preciso das vendas por continente) e **Developer**."
      ]
    },
    {
      "cell_type": "code",
      "metadata": {
        "id": "QPk5JrDHQSAn",
        "colab_type": "code",
        "outputId": "491be76a-eab0-407e-f9b4-603d56482eb2",
        "colab": {
          "base_uri": "https://localhost:8080/",
          "height": 244
        }
      },
      "source": [
        "games = games.drop(['Name', 'Year_of_Release', 'Other_Sales', 'Global_Sales', 'Developer'], 1)\n",
        "games.head()"
      ],
      "execution_count": 0,
      "outputs": [
        {
          "output_type": "execute_result",
          "data": {
            "text/html": [
              "<div>\n",
              "<style scoped>\n",
              "    .dataframe tbody tr th:only-of-type {\n",
              "        vertical-align: middle;\n",
              "    }\n",
              "\n",
              "    .dataframe tbody tr th {\n",
              "        vertical-align: top;\n",
              "    }\n",
              "\n",
              "    .dataframe thead th {\n",
              "        text-align: right;\n",
              "    }\n",
              "</style>\n",
              "<table border=\"1\" class=\"dataframe\">\n",
              "  <thead>\n",
              "    <tr style=\"text-align: right;\">\n",
              "      <th></th>\n",
              "      <th>Platform</th>\n",
              "      <th>Genre</th>\n",
              "      <th>Publisher</th>\n",
              "      <th>NA_Sales</th>\n",
              "      <th>EU_Sales</th>\n",
              "      <th>JP_Sales</th>\n",
              "      <th>Critic_Score</th>\n",
              "      <th>Critic_Count</th>\n",
              "      <th>User_Score</th>\n",
              "      <th>User_Count</th>\n",
              "      <th>Rating</th>\n",
              "    </tr>\n",
              "  </thead>\n",
              "  <tbody>\n",
              "    <tr>\n",
              "      <th>0</th>\n",
              "      <td>Wii</td>\n",
              "      <td>Sports</td>\n",
              "      <td>Nintendo</td>\n",
              "      <td>41.36</td>\n",
              "      <td>28.96</td>\n",
              "      <td>3.77</td>\n",
              "      <td>76.0</td>\n",
              "      <td>51.0</td>\n",
              "      <td>8</td>\n",
              "      <td>322.0</td>\n",
              "      <td>E</td>\n",
              "    </tr>\n",
              "    <tr>\n",
              "      <th>1</th>\n",
              "      <td>NES</td>\n",
              "      <td>Platform</td>\n",
              "      <td>Nintendo</td>\n",
              "      <td>29.08</td>\n",
              "      <td>3.58</td>\n",
              "      <td>6.81</td>\n",
              "      <td>NaN</td>\n",
              "      <td>NaN</td>\n",
              "      <td>NaN</td>\n",
              "      <td>NaN</td>\n",
              "      <td>NaN</td>\n",
              "    </tr>\n",
              "    <tr>\n",
              "      <th>2</th>\n",
              "      <td>Wii</td>\n",
              "      <td>Racing</td>\n",
              "      <td>Nintendo</td>\n",
              "      <td>15.68</td>\n",
              "      <td>12.76</td>\n",
              "      <td>3.79</td>\n",
              "      <td>82.0</td>\n",
              "      <td>73.0</td>\n",
              "      <td>8.3</td>\n",
              "      <td>709.0</td>\n",
              "      <td>E</td>\n",
              "    </tr>\n",
              "    <tr>\n",
              "      <th>3</th>\n",
              "      <td>Wii</td>\n",
              "      <td>Sports</td>\n",
              "      <td>Nintendo</td>\n",
              "      <td>15.61</td>\n",
              "      <td>10.93</td>\n",
              "      <td>3.28</td>\n",
              "      <td>80.0</td>\n",
              "      <td>73.0</td>\n",
              "      <td>8</td>\n",
              "      <td>192.0</td>\n",
              "      <td>E</td>\n",
              "    </tr>\n",
              "    <tr>\n",
              "      <th>4</th>\n",
              "      <td>GB</td>\n",
              "      <td>Role-Playing</td>\n",
              "      <td>Nintendo</td>\n",
              "      <td>11.27</td>\n",
              "      <td>8.89</td>\n",
              "      <td>10.22</td>\n",
              "      <td>NaN</td>\n",
              "      <td>NaN</td>\n",
              "      <td>NaN</td>\n",
              "      <td>NaN</td>\n",
              "      <td>NaN</td>\n",
              "    </tr>\n",
              "  </tbody>\n",
              "</table>\n",
              "</div>"
            ],
            "text/plain": [
              "  Platform         Genre Publisher  ...  User_Score  User_Count  Rating\n",
              "0      Wii        Sports  Nintendo  ...           8       322.0       E\n",
              "1      NES      Platform  Nintendo  ...         NaN         NaN     NaN\n",
              "2      Wii        Racing  Nintendo  ...         8.3       709.0       E\n",
              "3      Wii        Sports  Nintendo  ...           8       192.0       E\n",
              "4       GB  Role-Playing  Nintendo  ...         NaN         NaN     NaN\n",
              "\n",
              "[5 rows x 11 columns]"
            ]
          },
          "metadata": {
            "tags": []
          },
          "execution_count": 6
        }
      ]
    },
    {
      "cell_type": "code",
      "metadata": {
        "id": "WNzwaUXmRqF9",
        "colab_type": "code",
        "outputId": "29e9cd32-0621-4e40-bac3-8d95f8face48",
        "colab": {
          "base_uri": "https://localhost:8080/",
          "height": 35
        }
      },
      "source": [
        "# Removendo alguns outliers. Não irei remover do Japão pois seus dados já são bem escassos.\n",
        "games = games.loc[games['NA_Sales'] > 1]\n",
        "games = games.loc[games['EU_Sales'] > 1]\n",
        "games.shape"
      ],
      "execution_count": 0,
      "outputs": [
        {
          "output_type": "execute_result",
          "data": {
            "text/plain": [
              "(355, 11)"
            ]
          },
          "metadata": {
            "tags": []
          },
          "execution_count": 7
        }
      ]
    },
    {
      "cell_type": "code",
      "metadata": {
        "id": "UoZzruOzR-P2",
        "colab_type": "code",
        "outputId": "00773722-6686-437e-cfd8-dab63672e4bc",
        "colab": {
          "base_uri": "https://localhost:8080/",
          "height": 35
        }
      },
      "source": [
        "# Removendo valores nulos\n",
        "games = games.dropna(axis=0)\n",
        "games.shape"
      ],
      "execution_count": 0,
      "outputs": [
        {
          "output_type": "execute_result",
          "data": {
            "text/plain": [
              "(258, 11)"
            ]
          },
          "metadata": {
            "tags": []
          },
          "execution_count": 8
        }
      ]
    },
    {
      "cell_type": "markdown",
      "metadata": {
        "id": "pG4R2TjUSLHD",
        "colab_type": "text"
      },
      "source": [
        "##### Separar as *features* e o target."
      ]
    },
    {
      "cell_type": "code",
      "metadata": {
        "id": "jL6E8wCySYL9",
        "colab_type": "code",
        "colab": {}
      },
      "source": [
        "# As variáveis preditoras são 'Platform', 'Genre', 'Publisher','Critic_Score', 'Critic_Count', 'User_Score', \n",
        "# 'User_Count', 'Rating'\n",
        "X = games.iloc[:, [0, 1, 2, 6, 7, 8, 9, 10]].values\n",
        "\n",
        "# E as variáveis alvo são 3, uma para cada continente\n",
        "y_na = games['NA_Sales'].values\n",
        "y_eu = games['EU_Sales'].values\n",
        "y_jp = games['JP_Sales'].values"
      ],
      "execution_count": 0,
      "outputs": []
    },
    {
      "cell_type": "markdown",
      "metadata": {
        "id": "q74mEn_yTED9",
        "colab_type": "text"
      },
      "source": [
        "#### *Encode* das *features*."
      ]
    },
    {
      "cell_type": "code",
      "metadata": {
        "id": "0rPvWbuRTXTz",
        "colab_type": "code",
        "colab": {}
      },
      "source": [
        "ohencoder = ColumnTransformer(transformers=[('OneHot', OneHotEncoder(),\n",
        "                                            [0, 1, 2, 7])], remainder='passthrough')\n",
        "X = ohencoder.fit_transform(X).toarray()"
      ],
      "execution_count": 0,
      "outputs": []
    },
    {
      "cell_type": "markdown",
      "metadata": {
        "id": "Rx2y3qFOTdxJ",
        "colab_type": "text"
      },
      "source": [
        "## **Pré-processamento concluído. Agora, devemos construir a rede neural.**"
      ]
    },
    {
      "cell_type": "code",
      "metadata": {
        "id": "pIHI3frjTp-B",
        "colab_type": "code",
        "colab": {}
      },
      "source": [
        "# Criando a camada de entrada\n",
        "# 60 é o número de colunas de X\n",
        "my_input = Input(shape=(60, ))"
      ],
      "execution_count": 0,
      "outputs": []
    },
    {
      "cell_type": "code",
      "metadata": {
        "id": "nc9QvX3qTzeX",
        "colab_type": "code",
        "colab": {}
      },
      "source": [
        "# Criando a primeira camada oculta\n",
        "# (camada de entrada + números de saídas) / 2 = (60 + 3) / 2 = 32 aproximadamente\n",
        "# É necessário dizer com quem a camada oculta se conecta, que nesse caso é com a camada de entrada\n",
        "my_hidden_layer_1 = Dense(units=32, activation='sigmoid')(my_input)"
      ],
      "execution_count": 0,
      "outputs": []
    },
    {
      "cell_type": "code",
      "metadata": {
        "id": "FSTQ26EpUa9i",
        "colab_type": "code",
        "colab": {}
      },
      "source": [
        "# Criando a segunda camada oculta\n",
        "my_hidden_layer_2 = Dense(units=32, activation='sigmoid')(my_hidden_layer_1)"
      ],
      "execution_count": 0,
      "outputs": []
    },
    {
      "cell_type": "code",
      "metadata": {
        "id": "JUOSkkRBUMgT",
        "colab_type": "code",
        "colab": {}
      },
      "source": [
        "# Criando as camadas de saida, uma para cada continente\n",
        "# A função de ativação \"linear\" mantém os valores de saída.\n",
        "my_output_layer_1 = Dense(units=1, activation='linear')(my_hidden_layer_2)\n",
        "my_output_layer_2 = Dense(units=1, activation='linear')(my_hidden_layer_2)\n",
        "my_output_layer_3 = Dense(units=1, activation='linear')(my_hidden_layer_2)"
      ],
      "execution_count": 0,
      "outputs": []
    },
    {
      "cell_type": "code",
      "metadata": {
        "id": "FR7WvN4AUhFk",
        "colab_type": "code",
        "colab": {}
      },
      "source": [
        "# Criando os modelo com as camadas de entrada e saída.\n",
        "my_model = Model(inputs=my_input,\n",
        "                outputs=[my_output_layer_1, my_output_layer_2, my_output_layer_3])"
      ],
      "execution_count": 0,
      "outputs": []
    },
    {
      "cell_type": "code",
      "metadata": {
        "id": "xeq6QVemUr56",
        "colab_type": "code",
        "colab": {}
      },
      "source": [
        "# Compilando o modelo criado\n",
        "my_model.compile(optimizer='adam', loss='mse')"
      ],
      "execution_count": 0,
      "outputs": []
    },
    {
      "cell_type": "markdown",
      "metadata": {
        "id": "1swwcEfeU9LP",
        "colab_type": "text"
      },
      "source": [
        "### **Treinamento do modelo** (processo um pouco demorado, dependendo da capacidade computacional da máquina)."
      ]
    },
    {
      "cell_type": "code",
      "metadata": {
        "id": "4ArAZt1rU4RL",
        "colab_type": "code",
        "colab": {}
      },
      "source": [
        "my_model.fit(X, [y_na, y_eu, y_jp], epochs=7000, batch_size=100)"
      ],
      "execution_count": 0,
      "outputs": []
    }
  ]
}